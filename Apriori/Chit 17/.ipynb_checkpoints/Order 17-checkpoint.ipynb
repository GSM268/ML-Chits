{
 "cells": [
  {
   "cell_type": "code",
   "execution_count": 1,
   "id": "a65baa49",
   "metadata": {},
   "outputs": [],
   "source": [
    "import pandas as pd\n",
    "from apyori import apriori"
   ]
  },
  {
   "cell_type": "code",
   "execution_count": 2,
   "id": "12ac0a9b",
   "metadata": {},
   "outputs": [],
   "source": [
    "df = pd.read_csv(\"Oder3.csv\")"
   ]
  },
  {
   "cell_type": "code",
   "execution_count": 3,
   "id": "c4ad932d",
   "metadata": {},
   "outputs": [
    {
     "data": {
      "text/html": [
       "<div>\n",
       "<style scoped>\n",
       "    .dataframe tbody tr th:only-of-type {\n",
       "        vertical-align: middle;\n",
       "    }\n",
       "\n",
       "    .dataframe tbody tr th {\n",
       "        vertical-align: top;\n",
       "    }\n",
       "\n",
       "    .dataframe thead th {\n",
       "        text-align: right;\n",
       "    }\n",
       "</style>\n",
       "<table border=\"1\" class=\"dataframe\">\n",
       "  <thead>\n",
       "    <tr style=\"text-align: right;\">\n",
       "      <th></th>\n",
       "      <th>TransactionNo</th>\n",
       "      <th>Items</th>\n",
       "      <th>DateTime</th>\n",
       "      <th>Daypart</th>\n",
       "      <th>DayType</th>\n",
       "    </tr>\n",
       "  </thead>\n",
       "  <tbody>\n",
       "    <tr>\n",
       "      <th>0</th>\n",
       "      <td>1</td>\n",
       "      <td>Bread</td>\n",
       "      <td>10/30/2016 9:58</td>\n",
       "      <td>Morning</td>\n",
       "      <td>Weekend</td>\n",
       "    </tr>\n",
       "    <tr>\n",
       "      <th>1</th>\n",
       "      <td>2</td>\n",
       "      <td>Scandinavian</td>\n",
       "      <td>10/30/2016 10:05</td>\n",
       "      <td>Morning</td>\n",
       "      <td>Weekend</td>\n",
       "    </tr>\n",
       "    <tr>\n",
       "      <th>2</th>\n",
       "      <td>2</td>\n",
       "      <td>Scandinavian</td>\n",
       "      <td>10/30/2016 10:05</td>\n",
       "      <td>Morning</td>\n",
       "      <td>Weekend</td>\n",
       "    </tr>\n",
       "    <tr>\n",
       "      <th>3</th>\n",
       "      <td>3</td>\n",
       "      <td>Hot chocolate</td>\n",
       "      <td>10/30/2016 10:07</td>\n",
       "      <td>Morning</td>\n",
       "      <td>Weekend</td>\n",
       "    </tr>\n",
       "    <tr>\n",
       "      <th>4</th>\n",
       "      <td>3</td>\n",
       "      <td>Jam</td>\n",
       "      <td>10/30/2016 10:07</td>\n",
       "      <td>Morning</td>\n",
       "      <td>Weekend</td>\n",
       "    </tr>\n",
       "    <tr>\n",
       "      <th>...</th>\n",
       "      <td>...</td>\n",
       "      <td>...</td>\n",
       "      <td>...</td>\n",
       "      <td>...</td>\n",
       "      <td>...</td>\n",
       "    </tr>\n",
       "    <tr>\n",
       "      <th>20502</th>\n",
       "      <td>9682</td>\n",
       "      <td>Coffee</td>\n",
       "      <td>9/4/2017 14:32</td>\n",
       "      <td>Afternoon</td>\n",
       "      <td>Weekend</td>\n",
       "    </tr>\n",
       "    <tr>\n",
       "      <th>20503</th>\n",
       "      <td>9682</td>\n",
       "      <td>Tea</td>\n",
       "      <td>9/4/2017 14:32</td>\n",
       "      <td>Afternoon</td>\n",
       "      <td>Weekend</td>\n",
       "    </tr>\n",
       "    <tr>\n",
       "      <th>20504</th>\n",
       "      <td>9683</td>\n",
       "      <td>Coffee</td>\n",
       "      <td>9/4/2017 14:57</td>\n",
       "      <td>Afternoon</td>\n",
       "      <td>Weekend</td>\n",
       "    </tr>\n",
       "    <tr>\n",
       "      <th>20505</th>\n",
       "      <td>9683</td>\n",
       "      <td>Pastry</td>\n",
       "      <td>9/4/2017 14:57</td>\n",
       "      <td>Afternoon</td>\n",
       "      <td>Weekend</td>\n",
       "    </tr>\n",
       "    <tr>\n",
       "      <th>20506</th>\n",
       "      <td>9684</td>\n",
       "      <td>Smoothies</td>\n",
       "      <td>9/4/2017 15:04</td>\n",
       "      <td>Afternoon</td>\n",
       "      <td>Weekend</td>\n",
       "    </tr>\n",
       "  </tbody>\n",
       "</table>\n",
       "<p>20507 rows × 5 columns</p>\n",
       "</div>"
      ],
      "text/plain": [
       "       TransactionNo          Items          DateTime    Daypart  DayType\n",
       "0                  1          Bread   10/30/2016 9:58    Morning  Weekend\n",
       "1                  2   Scandinavian  10/30/2016 10:05    Morning  Weekend\n",
       "2                  2   Scandinavian  10/30/2016 10:05    Morning  Weekend\n",
       "3                  3  Hot chocolate  10/30/2016 10:07    Morning  Weekend\n",
       "4                  3            Jam  10/30/2016 10:07    Morning  Weekend\n",
       "...              ...            ...               ...        ...      ...\n",
       "20502           9682         Coffee    9/4/2017 14:32  Afternoon  Weekend\n",
       "20503           9682            Tea    9/4/2017 14:32  Afternoon  Weekend\n",
       "20504           9683         Coffee    9/4/2017 14:57  Afternoon  Weekend\n",
       "20505           9683         Pastry    9/4/2017 14:57  Afternoon  Weekend\n",
       "20506           9684      Smoothies    9/4/2017 15:04  Afternoon  Weekend\n",
       "\n",
       "[20507 rows x 5 columns]"
      ]
     },
     "execution_count": 3,
     "metadata": {},
     "output_type": "execute_result"
    }
   ],
   "source": [
    "df"
   ]
  },
  {
   "cell_type": "code",
   "execution_count": 4,
   "id": "978f15ba",
   "metadata": {},
   "outputs": [],
   "source": [
    "groups = df.groupby(by=\"TransactionNo\")"
   ]
  },
  {
   "cell_type": "code",
   "execution_count": 5,
   "id": "ec04b74d",
   "metadata": {},
   "outputs": [
    {
     "data": {
      "text/plain": [
       "<pandas.core.groupby.generic.DataFrameGroupBy object at 0x7f2ff5a35930>"
      ]
     },
     "execution_count": 5,
     "metadata": {},
     "output_type": "execute_result"
    }
   ],
   "source": [
    "groups"
   ]
  },
  {
   "cell_type": "code",
   "execution_count": 6,
   "id": "a2a86742",
   "metadata": {},
   "outputs": [],
   "source": [
    "records = groups.apply(lambda x:[x.iloc[i,1] for i in range(len(x))])"
   ]
  },
  {
   "cell_type": "code",
   "execution_count": 7,
   "id": "24b0c83f",
   "metadata": {},
   "outputs": [
    {
     "data": {
      "text/plain": [
       "TransactionNo\n",
       "1                                                 [Bread]\n",
       "2                            [Scandinavian, Scandinavian]\n",
       "3                           [Hot chocolate, Jam, Cookies]\n",
       "4                                                [Muffin]\n",
       "5                                 [Coffee, Pastry, Bread]\n",
       "                              ...                        \n",
       "9680                                              [Bread]\n",
       "9681    [Truffles, Tea, Spanish Brunch, Christmas common]\n",
       "9682                  [Muffin, Tacos/Fajita, Coffee, Tea]\n",
       "9683                                     [Coffee, Pastry]\n",
       "9684                                          [Smoothies]\n",
       "Length: 9465, dtype: object"
      ]
     },
     "execution_count": 7,
     "metadata": {},
     "output_type": "execute_result"
    }
   ],
   "source": [
    "records"
   ]
  },
  {
   "cell_type": "code",
   "execution_count": 11,
   "id": "c3bbec8a",
   "metadata": {},
   "outputs": [],
   "source": [
    "association_rules = apriori(records,min_support=0.002,min_confidence=0.03,min_lift=3)"
   ]
  },
  {
   "cell_type": "code",
   "execution_count": 12,
   "id": "462dcb89",
   "metadata": {},
   "outputs": [],
   "source": [
    "association_result = list(association_rules)"
   ]
  },
  {
   "cell_type": "code",
   "execution_count": 13,
   "id": "d4ac0e37",
   "metadata": {},
   "outputs": [
    {
     "data": {
      "text/plain": [
       "RelationRecord(items=frozenset({'Sandwich', 'Coke'}), support=0.005176967776016905, ordered_statistics=[OrderedStatistic(items_base=frozenset({'Coke'}), items_add=frozenset({'Sandwich'}), confidence=0.266304347826087, lift=3.706721547314578), OrderedStatistic(items_base=frozenset({'Sandwich'}), items_add=frozenset({'Coke'}), confidence=0.07205882352941176, lift=3.7067215473145776)])"
      ]
     },
     "execution_count": 13,
     "metadata": {},
     "output_type": "execute_result"
    }
   ],
   "source": [
    "association_result[0]"
   ]
  },
  {
   "cell_type": "code",
   "execution_count": 14,
   "id": "23ac2eea",
   "metadata": {},
   "outputs": [
    {
     "name": "stdout",
     "output_type": "stream",
     "text": [
      "Rules:Sandwich---->Coke\n",
      "Support:0.005176967776016905\n",
      "Confidence:3.706721547314578\n",
      "Confidence:3.706721547314578\n",
      "\n",
      "Rules:Jam---->Fudge\n",
      "Support:0.0025356576862123614\n",
      "Confidence:11.265621900416583\n",
      "Confidence:11.265621900416583\n",
      "\n",
      "Rules:Juice---->Jammie Dodgers\n",
      "Support:0.0021130480718436345\n",
      "Confidence:4.149041095890412\n",
      "Confidence:4.149041095890412\n",
      "\n",
      "Rules:Spanish Brunch---->Juice\n",
      "Support:0.002746962493396725\n",
      "Confidence:3.919878942338325\n",
      "Confidence:3.919878942338325\n",
      "\n",
      "Rules:Sandwich---->Mineral water\n",
      "Support:0.0032752245113576335\n",
      "Confidence:3.2200943810359965\n",
      "Confidence:3.2200943810359965\n",
      "\n",
      "Rules:Coffee---->Sandwich\n",
      "Support:0.002007395668251453\n",
      "Confidence:4.33546287367406\n",
      "Confidence:4.33546287367406\n",
      "\n",
      "Rules:Coffee---->Juice\n",
      "Support:0.0036978341257263604\n",
      "Confidence:3.298730395817774\n",
      "Confidence:3.298730395817774\n",
      "\n",
      "Rules:Spanish Brunch---->Coffee\n",
      "Support:0.002007395668251453\n",
      "Confidence:4.783481845990158\n",
      "Confidence:4.783481845990158\n",
      "\n",
      "Rules:Coffee---->Soup\n",
      "Support:0.0035921817221341787\n",
      "Confidence:3.1550000000000002\n",
      "Confidence:3.1550000000000002\n",
      "\n",
      "Rules:Coffee---->Sandwich\n",
      "Support:0.0021130480718436345\n",
      "Confidence:3.9208782104391053\n",
      "Confidence:3.9208782104391053\n",
      "\n"
     ]
    }
   ],
   "source": [
    "for i in association_result:\n",
    "    pair = i[0]\n",
    "    item = [x for x in pair]\n",
    "    print(\"Rules:\"+item[0]+\"---->\"+item[1])\n",
    "    print(\"Support:\"+str(i[1]))\n",
    "    print(\"Confidence:\"+str(i[2][0][3]))\n",
    "    print(\"Confidence:\"+str(i[2][0][3]))\n",
    "    print()"
   ]
  },
  {
   "cell_type": "code",
   "execution_count": null,
   "id": "490bbdaa",
   "metadata": {},
   "outputs": [],
   "source": []
  }
 ],
 "metadata": {
  "kernelspec": {
   "display_name": "Python 3 (ipykernel)",
   "language": "python",
   "name": "python3"
  },
  "language_info": {
   "codemirror_mode": {
    "name": "ipython",
    "version": 3
   },
   "file_extension": ".py",
   "mimetype": "text/x-python",
   "name": "python",
   "nbconvert_exporter": "python",
   "pygments_lexer": "ipython3",
   "version": "3.10.6"
  }
 },
 "nbformat": 4,
 "nbformat_minor": 5
}
