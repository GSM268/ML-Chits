{
 "cells": [
  {
   "cell_type": "code",
   "execution_count": 55,
   "metadata": {
    "colab": {
     "base_uri": "https://localhost:8080/"
    },
    "id": "a9vtH6uesM-K",
    "outputId": "3b858c9f-0670-4b6c-a7ba-1544b82e29b1"
   },
   "outputs": [
    {
     "name": "stdout",
     "output_type": "stream",
     "text": [
      "Looking in indexes: https://pypi.org/simple, https://us-python.pkg.dev/colab-wheels/public/simple/\n",
      "Requirement already satisfied: apyori in /usr/local/lib/python3.7/dist-packages (1.1.2)\n"
     ]
    }
   ],
   "source": [
    "import numpy as np\n",
    "import pandas as pd\n",
    "\n",
    "!pip install apyori\n",
    "from apyori import apriori"
   ]
  },
  {
   "cell_type": "code",
   "execution_count": 56,
   "metadata": {
    "colab": {
     "base_uri": "https://localhost:8080/",
     "height": 424
    },
    "id": "EZMw2sV_svpI",
    "outputId": "445aa1d8-a5b6-4487-e35e-e895fdfcaa5f"
   },
   "outputs": [
    {
     "data": {
      "text/html": [
       "\n",
       "  <div id=\"df-0609c354-c81c-4166-abb9-86f5df7afad6\">\n",
       "    <div class=\"colab-df-container\">\n",
       "      <div>\n",
       "<style scoped>\n",
       "    .dataframe tbody tr th:only-of-type {\n",
       "        vertical-align: middle;\n",
       "    }\n",
       "\n",
       "    .dataframe tbody tr th {\n",
       "        vertical-align: top;\n",
       "    }\n",
       "\n",
       "    .dataframe thead th {\n",
       "        text-align: right;\n",
       "    }\n",
       "</style>\n",
       "<table border=\"1\" class=\"dataframe\">\n",
       "  <thead>\n",
       "    <tr style=\"text-align: right;\">\n",
       "      <th></th>\n",
       "      <th>TransactionNo</th>\n",
       "      <th>Items</th>\n",
       "      <th>DateTime</th>\n",
       "      <th>Daypart</th>\n",
       "      <th>DayType</th>\n",
       "    </tr>\n",
       "  </thead>\n",
       "  <tbody>\n",
       "    <tr>\n",
       "      <th>0</th>\n",
       "      <td>1</td>\n",
       "      <td>Bread</td>\n",
       "      <td>10/30/2016 9:58</td>\n",
       "      <td>Morning</td>\n",
       "      <td>Weekend</td>\n",
       "    </tr>\n",
       "    <tr>\n",
       "      <th>1</th>\n",
       "      <td>2</td>\n",
       "      <td>Scandinavian</td>\n",
       "      <td>10/30/2016 10:05</td>\n",
       "      <td>Morning</td>\n",
       "      <td>Weekend</td>\n",
       "    </tr>\n",
       "    <tr>\n",
       "      <th>2</th>\n",
       "      <td>2</td>\n",
       "      <td>Scandinavian</td>\n",
       "      <td>10/30/2016 10:05</td>\n",
       "      <td>Morning</td>\n",
       "      <td>Weekend</td>\n",
       "    </tr>\n",
       "    <tr>\n",
       "      <th>3</th>\n",
       "      <td>3</td>\n",
       "      <td>Hot chocolate</td>\n",
       "      <td>10/30/2016 10:07</td>\n",
       "      <td>Morning</td>\n",
       "      <td>Weekend</td>\n",
       "    </tr>\n",
       "    <tr>\n",
       "      <th>4</th>\n",
       "      <td>3</td>\n",
       "      <td>Jam</td>\n",
       "      <td>10/30/2016 10:07</td>\n",
       "      <td>Morning</td>\n",
       "      <td>Weekend</td>\n",
       "    </tr>\n",
       "    <tr>\n",
       "      <th>...</th>\n",
       "      <td>...</td>\n",
       "      <td>...</td>\n",
       "      <td>...</td>\n",
       "      <td>...</td>\n",
       "      <td>...</td>\n",
       "    </tr>\n",
       "    <tr>\n",
       "      <th>20502</th>\n",
       "      <td>9682</td>\n",
       "      <td>Coffee</td>\n",
       "      <td>9/4/2017 14:32</td>\n",
       "      <td>Afternoon</td>\n",
       "      <td>Weekend</td>\n",
       "    </tr>\n",
       "    <tr>\n",
       "      <th>20503</th>\n",
       "      <td>9682</td>\n",
       "      <td>Tea</td>\n",
       "      <td>9/4/2017 14:32</td>\n",
       "      <td>Afternoon</td>\n",
       "      <td>Weekend</td>\n",
       "    </tr>\n",
       "    <tr>\n",
       "      <th>20504</th>\n",
       "      <td>9683</td>\n",
       "      <td>Coffee</td>\n",
       "      <td>9/4/2017 14:57</td>\n",
       "      <td>Afternoon</td>\n",
       "      <td>Weekend</td>\n",
       "    </tr>\n",
       "    <tr>\n",
       "      <th>20505</th>\n",
       "      <td>9683</td>\n",
       "      <td>Pastry</td>\n",
       "      <td>9/4/2017 14:57</td>\n",
       "      <td>Afternoon</td>\n",
       "      <td>Weekend</td>\n",
       "    </tr>\n",
       "    <tr>\n",
       "      <th>20506</th>\n",
       "      <td>9684</td>\n",
       "      <td>Smoothies</td>\n",
       "      <td>9/4/2017 15:04</td>\n",
       "      <td>Afternoon</td>\n",
       "      <td>Weekend</td>\n",
       "    </tr>\n",
       "  </tbody>\n",
       "</table>\n",
       "<p>20507 rows × 5 columns</p>\n",
       "</div>\n",
       "      <button class=\"colab-df-convert\" onclick=\"convertToInteractive('df-0609c354-c81c-4166-abb9-86f5df7afad6')\"\n",
       "              title=\"Convert this dataframe to an interactive table.\"\n",
       "              style=\"display:none;\">\n",
       "        \n",
       "  <svg xmlns=\"http://www.w3.org/2000/svg\" height=\"24px\"viewBox=\"0 0 24 24\"\n",
       "       width=\"24px\">\n",
       "    <path d=\"M0 0h24v24H0V0z\" fill=\"none\"/>\n",
       "    <path d=\"M18.56 5.44l.94 2.06.94-2.06 2.06-.94-2.06-.94-.94-2.06-.94 2.06-2.06.94zm-11 1L8.5 8.5l.94-2.06 2.06-.94-2.06-.94L8.5 2.5l-.94 2.06-2.06.94zm10 10l.94 2.06.94-2.06 2.06-.94-2.06-.94-.94-2.06-.94 2.06-2.06.94z\"/><path d=\"M17.41 7.96l-1.37-1.37c-.4-.4-.92-.59-1.43-.59-.52 0-1.04.2-1.43.59L10.3 9.45l-7.72 7.72c-.78.78-.78 2.05 0 2.83L4 21.41c.39.39.9.59 1.41.59.51 0 1.02-.2 1.41-.59l7.78-7.78 2.81-2.81c.8-.78.8-2.07 0-2.86zM5.41 20L4 18.59l7.72-7.72 1.47 1.35L5.41 20z\"/>\n",
       "  </svg>\n",
       "      </button>\n",
       "      \n",
       "  <style>\n",
       "    .colab-df-container {\n",
       "      display:flex;\n",
       "      flex-wrap:wrap;\n",
       "      gap: 12px;\n",
       "    }\n",
       "\n",
       "    .colab-df-convert {\n",
       "      background-color: #E8F0FE;\n",
       "      border: none;\n",
       "      border-radius: 50%;\n",
       "      cursor: pointer;\n",
       "      display: none;\n",
       "      fill: #1967D2;\n",
       "      height: 32px;\n",
       "      padding: 0 0 0 0;\n",
       "      width: 32px;\n",
       "    }\n",
       "\n",
       "    .colab-df-convert:hover {\n",
       "      background-color: #E2EBFA;\n",
       "      box-shadow: 0px 1px 2px rgba(60, 64, 67, 0.3), 0px 1px 3px 1px rgba(60, 64, 67, 0.15);\n",
       "      fill: #174EA6;\n",
       "    }\n",
       "\n",
       "    [theme=dark] .colab-df-convert {\n",
       "      background-color: #3B4455;\n",
       "      fill: #D2E3FC;\n",
       "    }\n",
       "\n",
       "    [theme=dark] .colab-df-convert:hover {\n",
       "      background-color: #434B5C;\n",
       "      box-shadow: 0px 1px 3px 1px rgba(0, 0, 0, 0.15);\n",
       "      filter: drop-shadow(0px 1px 2px rgba(0, 0, 0, 0.3));\n",
       "      fill: #FFFFFF;\n",
       "    }\n",
       "  </style>\n",
       "\n",
       "      <script>\n",
       "        const buttonEl =\n",
       "          document.querySelector('#df-0609c354-c81c-4166-abb9-86f5df7afad6 button.colab-df-convert');\n",
       "        buttonEl.style.display =\n",
       "          google.colab.kernel.accessAllowed ? 'block' : 'none';\n",
       "\n",
       "        async function convertToInteractive(key) {\n",
       "          const element = document.querySelector('#df-0609c354-c81c-4166-abb9-86f5df7afad6');\n",
       "          const dataTable =\n",
       "            await google.colab.kernel.invokeFunction('convertToInteractive',\n",
       "                                                     [key], {});\n",
       "          if (!dataTable) return;\n",
       "\n",
       "          const docLinkHtml = 'Like what you see? Visit the ' +\n",
       "            '<a target=\"_blank\" href=https://colab.research.google.com/notebooks/data_table.ipynb>data table notebook</a>'\n",
       "            + ' to learn more about interactive tables.';\n",
       "          element.innerHTML = '';\n",
       "          dataTable['output_type'] = 'display_data';\n",
       "          await google.colab.output.renderOutput(dataTable, element);\n",
       "          const docLink = document.createElement('div');\n",
       "          docLink.innerHTML = docLinkHtml;\n",
       "          element.appendChild(docLink);\n",
       "        }\n",
       "      </script>\n",
       "    </div>\n",
       "  </div>\n",
       "  "
      ],
      "text/plain": [
       "       TransactionNo          Items          DateTime    Daypart  DayType\n",
       "0                  1          Bread   10/30/2016 9:58    Morning  Weekend\n",
       "1                  2   Scandinavian  10/30/2016 10:05    Morning  Weekend\n",
       "2                  2   Scandinavian  10/30/2016 10:05    Morning  Weekend\n",
       "3                  3  Hot chocolate  10/30/2016 10:07    Morning  Weekend\n",
       "4                  3            Jam  10/30/2016 10:07    Morning  Weekend\n",
       "...              ...            ...               ...        ...      ...\n",
       "20502           9682         Coffee    9/4/2017 14:32  Afternoon  Weekend\n",
       "20503           9682            Tea    9/4/2017 14:32  Afternoon  Weekend\n",
       "20504           9683         Coffee    9/4/2017 14:57  Afternoon  Weekend\n",
       "20505           9683         Pastry    9/4/2017 14:57  Afternoon  Weekend\n",
       "20506           9684      Smoothies    9/4/2017 15:04  Afternoon  Weekend\n",
       "\n",
       "[20507 rows x 5 columns]"
      ]
     },
     "execution_count": 56,
     "metadata": {},
     "output_type": "execute_result"
    }
   ],
   "source": [
    "df = pd.read_csv(\"Oder3.csv\")\n",
    "df"
   ]
  },
  {
   "cell_type": "code",
   "execution_count": 57,
   "metadata": {
    "id": "fA8jZC4dtP4q"
   },
   "outputs": [],
   "source": [
    "groups = df.groupby(by='TransactionNo')"
   ]
  },
  {
   "cell_type": "code",
   "execution_count": 58,
   "metadata": {
    "colab": {
     "base_uri": "https://localhost:8080/"
    },
    "id": "5l10HET3yEpY",
    "outputId": "1d35a75b-f63b-43ac-8a03-a004f77b3100"
   },
   "outputs": [
    {
     "data": {
      "text/plain": [
       "TransactionNo\n",
       "1                                                 [Bread]\n",
       "2                            [Scandinavian, Scandinavian]\n",
       "3                           [Hot chocolate, Jam, Cookies]\n",
       "4                                                [Muffin]\n",
       "5                                 [Coffee, Pastry, Bread]\n",
       "                              ...                        \n",
       "9680                                              [Bread]\n",
       "9681    [Truffles, Tea, Spanish Brunch, Christmas common]\n",
       "9682                  [Muffin, Tacos/Fajita, Coffee, Tea]\n",
       "9683                                     [Coffee, Pastry]\n",
       "9684                                          [Smoothies]\n",
       "Length: 9465, dtype: object"
      ]
     },
     "execution_count": 58,
     "metadata": {},
     "output_type": "execute_result"
    }
   ],
   "source": [
    "records = groups.apply(lambda x: [x.iloc[i,1] for i in range(len(x))])\n",
    "records"
   ]
  },
  {
   "cell_type": "code",
   "execution_count": 59,
   "metadata": {
    "id": "0-xSyCCTyEfc"
   },
   "outputs": [],
   "source": [
    "association_rules = apriori(records, min_support=0.002, min_confidence=0.03, min_lift=3)\n",
    "association_results = list(association_rules)"
   ]
  },
  {
   "cell_type": "code",
   "execution_count": 60,
   "metadata": {
    "colab": {
     "base_uri": "https://localhost:8080/"
    },
    "id": "xh173NIA2Ojt",
    "outputId": "a3176187-cf7c-461e-9979-468cb63da995"
   },
   "outputs": [
    {
     "name": "stdout",
     "output_type": "stream",
     "text": [
      "RelationRecord(items=frozenset({'Coke', 'Sandwich'}), support=0.005176967776016905, ordered_statistics=[OrderedStatistic(items_base=frozenset({'Coke'}), items_add=frozenset({'Sandwich'}), confidence=0.266304347826087, lift=3.706721547314578), OrderedStatistic(items_base=frozenset({'Sandwich'}), items_add=frozenset({'Coke'}), confidence=0.07205882352941176, lift=3.7067215473145776)])\n"
     ]
    }
   ],
   "source": [
    "print(association_results[0])"
   ]
  },
  {
   "cell_type": "code",
   "execution_count": 61,
   "metadata": {
    "colab": {
     "base_uri": "https://localhost:8080/"
    },
    "id": "PcAdZP0b27C6",
    "outputId": "f845b785-526b-4bd2-8488-a52d47d77299"
   },
   "outputs": [
    {
     "name": "stdout",
     "output_type": "stream",
     "text": [
      "Rule: Coke --> Sandwich\n",
      "Support: 0.005176967776016905\n",
      "Confidence: 0.266304347826087\n",
      "Lift: 3.706721547314578\n",
      "\n",
      "\n",
      "Rule: Jam --> Fudge\n",
      "Support: 0.0025356576862123614\n",
      "Confidence: 0.16901408450704225\n",
      "Lift: 11.265621900416583\n",
      "\n",
      "\n",
      "Rule: Jammie Dodgers --> Juice\n",
      "Support: 0.0021130480718436345\n",
      "Confidence: 0.16\n",
      "Lift: 4.149041095890412\n",
      "\n",
      "\n",
      "Rule: Spanish Brunch --> Juice\n",
      "Support: 0.002746962493396725\n",
      "Confidence: 0.07123287671232878\n",
      "Lift: 3.919878942338325\n",
      "\n",
      "\n",
      "Rule: Mineral water --> Sandwich\n",
      "Support: 0.0032752245113576335\n",
      "Confidence: 0.23134328358208955\n",
      "Lift: 3.2200943810359965\n",
      "\n",
      "\n",
      "Rule: Coffee --> Coke\n",
      "Support: 0.002007395668251453\n",
      "Confidence: 0.3114754098360656\n",
      "Lift: 4.33546287367406\n",
      "\n",
      "\n",
      "Rule: Juice --> Cookies\n",
      "Support: 0.0036978341257263604\n",
      "Confidence: 0.06796116504854369\n",
      "Lift: 3.298730395817774\n",
      "\n",
      "\n",
      "Rule: Juice --> Spanish Brunch\n",
      "Support: 0.002007395668251453\n",
      "Confidence: 0.052054794520547946\n",
      "Lift: 4.783481845990158\n",
      "\n",
      "\n",
      "Rule: Soup --> Coffee\n",
      "Support: 0.0035921817221341787\n",
      "Confidence: 0.05\n",
      "Lift: 3.1550000000000002\n",
      "\n",
      "\n",
      "Rule: Truffles --> Coffee\n",
      "Support: 0.0021130480718436345\n",
      "Confidence: 0.28169014084507044\n",
      "Lift: 3.9208782104391053\n",
      "\n",
      "\n"
     ]
    }
   ],
   "source": [
    "for i in association_results:\n",
    "  pair = i[0]\n",
    "  index = [x for x in pair]\n",
    "\n",
    "  print(\"Rule: \"+index[0]+\" --> \"+index[1])\n",
    "  print(\"Support: \"+str(i[1]))\n",
    "  print(\"Confidence: \"+str(i[2][0][2]))\n",
    "  print(\"Lift: \"+str(i[2][0][3]))\n",
    "  print(\"\\n\")"
   ]
  }
 ],
 "metadata": {
  "colab": {
   "provenance": []
  },
  "kernelspec": {
   "display_name": "Python 3 (ipykernel)",
   "language": "python",
   "name": "python3"
  },
  "language_info": {
   "codemirror_mode": {
    "name": "ipython",
    "version": 3
   },
   "file_extension": ".py",
   "mimetype": "text/x-python",
   "name": "python",
   "nbconvert_exporter": "python",
   "pygments_lexer": "ipython3",
   "version": "3.10.6"
  }
 },
 "nbformat": 4,
 "nbformat_minor": 1
}
