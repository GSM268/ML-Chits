{
 "cells": [
  {
   "cell_type": "code",
   "execution_count": 1,
   "id": "e6b99b30",
   "metadata": {},
   "outputs": [],
   "source": [
    "import pandas as pd\n",
    "import matplotlib.pyplot as plt\n",
    "import numpy as np"
   ]
  },
  {
   "cell_type": "code",
   "execution_count": 2,
   "id": "b5290597",
   "metadata": {},
   "outputs": [],
   "source": [
    "from sklearn import metrics\n",
    "from sklearn.tree import DecisionTreeClassifier\n",
    "from sklearn.preprocessing import LabelEncoder\n",
    "from sklearn.model_selection import train_test_split"
   ]
  },
  {
   "cell_type": "code",
   "execution_count": 3,
   "id": "c2f67b76",
   "metadata": {},
   "outputs": [],
   "source": [
    "headerList = ['No. Pregnancies', 'Glucose', 'BloodPressure', 'SkinThickness', 'Insulin', 'BMI', 'DPF' ,'Age', 'Res']"
   ]
  },
  {
   "cell_type": "code",
   "execution_count": 4,
   "id": "368b7057",
   "metadata": {},
   "outputs": [],
   "source": [
    "df = pd.read_csv(\"pima-indians-diabetes.csv\",skiprows=9)\n"
   ]
  },
  {
   "cell_type": "code",
   "execution_count": 5,
   "id": "869ce1ef",
   "metadata": {},
   "outputs": [],
   "source": [
    "df.to_csv(\"new.csv\",header=headerList,index=False)"
   ]
  },
  {
   "cell_type": "code",
   "execution_count": 6,
   "id": "52876a7a",
   "metadata": {},
   "outputs": [],
   "source": [
    "df = pd.read_csv(\"new.csv\")"
   ]
  },
  {
   "cell_type": "code",
   "execution_count": 7,
   "id": "829264d2",
   "metadata": {},
   "outputs": [
    {
     "data": {
      "text/html": [
       "<div>\n",
       "<style scoped>\n",
       "    .dataframe tbody tr th:only-of-type {\n",
       "        vertical-align: middle;\n",
       "    }\n",
       "\n",
       "    .dataframe tbody tr th {\n",
       "        vertical-align: top;\n",
       "    }\n",
       "\n",
       "    .dataframe thead th {\n",
       "        text-align: right;\n",
       "    }\n",
       "</style>\n",
       "<table border=\"1\" class=\"dataframe\">\n",
       "  <thead>\n",
       "    <tr style=\"text-align: right;\">\n",
       "      <th></th>\n",
       "      <th>No. Pregnancies</th>\n",
       "      <th>Glucose</th>\n",
       "      <th>BloodPressure</th>\n",
       "      <th>SkinThickness</th>\n",
       "      <th>Insulin</th>\n",
       "      <th>BMI</th>\n",
       "      <th>DPF</th>\n",
       "      <th>Age</th>\n",
       "      <th>Res</th>\n",
       "    </tr>\n",
       "  </thead>\n",
       "  <tbody>\n",
       "    <tr>\n",
       "      <th>0</th>\n",
       "      <td>1</td>\n",
       "      <td>85</td>\n",
       "      <td>66</td>\n",
       "      <td>29</td>\n",
       "      <td>0</td>\n",
       "      <td>26.6</td>\n",
       "      <td>0.351</td>\n",
       "      <td>31</td>\n",
       "      <td>0</td>\n",
       "    </tr>\n",
       "    <tr>\n",
       "      <th>1</th>\n",
       "      <td>8</td>\n",
       "      <td>183</td>\n",
       "      <td>64</td>\n",
       "      <td>0</td>\n",
       "      <td>0</td>\n",
       "      <td>23.3</td>\n",
       "      <td>0.672</td>\n",
       "      <td>32</td>\n",
       "      <td>1</td>\n",
       "    </tr>\n",
       "    <tr>\n",
       "      <th>2</th>\n",
       "      <td>1</td>\n",
       "      <td>89</td>\n",
       "      <td>66</td>\n",
       "      <td>23</td>\n",
       "      <td>94</td>\n",
       "      <td>28.1</td>\n",
       "      <td>0.167</td>\n",
       "      <td>21</td>\n",
       "      <td>0</td>\n",
       "    </tr>\n",
       "    <tr>\n",
       "      <th>3</th>\n",
       "      <td>0</td>\n",
       "      <td>137</td>\n",
       "      <td>40</td>\n",
       "      <td>35</td>\n",
       "      <td>168</td>\n",
       "      <td>43.1</td>\n",
       "      <td>2.288</td>\n",
       "      <td>33</td>\n",
       "      <td>1</td>\n",
       "    </tr>\n",
       "    <tr>\n",
       "      <th>4</th>\n",
       "      <td>5</td>\n",
       "      <td>116</td>\n",
       "      <td>74</td>\n",
       "      <td>0</td>\n",
       "      <td>0</td>\n",
       "      <td>25.6</td>\n",
       "      <td>0.201</td>\n",
       "      <td>30</td>\n",
       "      <td>0</td>\n",
       "    </tr>\n",
       "  </tbody>\n",
       "</table>\n",
       "</div>"
      ],
      "text/plain": [
       "   No. Pregnancies  Glucose  BloodPressure  SkinThickness  Insulin   BMI  \\\n",
       "0                1       85             66             29        0  26.6   \n",
       "1                8      183             64              0        0  23.3   \n",
       "2                1       89             66             23       94  28.1   \n",
       "3                0      137             40             35      168  43.1   \n",
       "4                5      116             74              0        0  25.6   \n",
       "\n",
       "     DPF  Age  Res  \n",
       "0  0.351   31    0  \n",
       "1  0.672   32    1  \n",
       "2  0.167   21    0  \n",
       "3  2.288   33    1  \n",
       "4  0.201   30    0  "
      ]
     },
     "execution_count": 7,
     "metadata": {},
     "output_type": "execute_result"
    }
   ],
   "source": [
    "df.head()"
   ]
  },
  {
   "cell_type": "code",
   "execution_count": 8,
   "id": "9a90f85f",
   "metadata": {},
   "outputs": [
    {
     "data": {
      "text/plain": [
       "No. Pregnancies    0\n",
       "Glucose            0\n",
       "BloodPressure      0\n",
       "SkinThickness      0\n",
       "Insulin            0\n",
       "BMI                0\n",
       "DPF                0\n",
       "Age                0\n",
       "Res                0\n",
       "dtype: int64"
      ]
     },
     "execution_count": 8,
     "metadata": {},
     "output_type": "execute_result"
    }
   ],
   "source": [
    "df.isnull().sum()"
   ]
  },
  {
   "cell_type": "code",
   "execution_count": 9,
   "id": "09fcc048",
   "metadata": {},
   "outputs": [
    {
     "data": {
      "text/html": [
       "<div>\n",
       "<style scoped>\n",
       "    .dataframe tbody tr th:only-of-type {\n",
       "        vertical-align: middle;\n",
       "    }\n",
       "\n",
       "    .dataframe tbody tr th {\n",
       "        vertical-align: top;\n",
       "    }\n",
       "\n",
       "    .dataframe thead th {\n",
       "        text-align: right;\n",
       "    }\n",
       "</style>\n",
       "<table border=\"1\" class=\"dataframe\">\n",
       "  <thead>\n",
       "    <tr style=\"text-align: right;\">\n",
       "      <th></th>\n",
       "      <th>No. Pregnancies</th>\n",
       "      <th>Glucose</th>\n",
       "      <th>BloodPressure</th>\n",
       "      <th>SkinThickness</th>\n",
       "      <th>Insulin</th>\n",
       "      <th>BMI</th>\n",
       "      <th>DPF</th>\n",
       "      <th>Age</th>\n",
       "      <th>Res</th>\n",
       "    </tr>\n",
       "  </thead>\n",
       "  <tbody>\n",
       "    <tr>\n",
       "      <th>No. Pregnancies</th>\n",
       "      <td>1.000000</td>\n",
       "      <td>0.128846</td>\n",
       "      <td>0.141197</td>\n",
       "      <td>-0.082495</td>\n",
       "      <td>-0.072999</td>\n",
       "      <td>0.017518</td>\n",
       "      <td>-0.033927</td>\n",
       "      <td>0.544018</td>\n",
       "      <td>0.221087</td>\n",
       "    </tr>\n",
       "    <tr>\n",
       "      <th>Glucose</th>\n",
       "      <td>0.128846</td>\n",
       "      <td>1.000000</td>\n",
       "      <td>0.152498</td>\n",
       "      <td>0.056381</td>\n",
       "      <td>0.332383</td>\n",
       "      <td>0.220955</td>\n",
       "      <td>0.136903</td>\n",
       "      <td>0.262408</td>\n",
       "      <td>0.465856</td>\n",
       "    </tr>\n",
       "    <tr>\n",
       "      <th>BloodPressure</th>\n",
       "      <td>0.141197</td>\n",
       "      <td>0.152498</td>\n",
       "      <td>1.000000</td>\n",
       "      <td>0.207308</td>\n",
       "      <td>0.089098</td>\n",
       "      <td>0.281777</td>\n",
       "      <td>0.041180</td>\n",
       "      <td>0.239571</td>\n",
       "      <td>0.064882</td>\n",
       "    </tr>\n",
       "    <tr>\n",
       "      <th>SkinThickness</th>\n",
       "      <td>-0.082495</td>\n",
       "      <td>0.056381</td>\n",
       "      <td>0.207308</td>\n",
       "      <td>1.000000</td>\n",
       "      <td>0.437974</td>\n",
       "      <td>0.392553</td>\n",
       "      <td>0.183498</td>\n",
       "      <td>-0.115873</td>\n",
       "      <td>0.073265</td>\n",
       "    </tr>\n",
       "    <tr>\n",
       "      <th>Insulin</th>\n",
       "      <td>-0.072999</td>\n",
       "      <td>0.332383</td>\n",
       "      <td>0.089098</td>\n",
       "      <td>0.437974</td>\n",
       "      <td>1.000000</td>\n",
       "      <td>0.198111</td>\n",
       "      <td>0.185579</td>\n",
       "      <td>-0.040942</td>\n",
       "      <td>0.131984</td>\n",
       "    </tr>\n",
       "    <tr>\n",
       "      <th>BMI</th>\n",
       "      <td>0.017518</td>\n",
       "      <td>0.220955</td>\n",
       "      <td>0.281777</td>\n",
       "      <td>0.392553</td>\n",
       "      <td>0.198111</td>\n",
       "      <td>1.000000</td>\n",
       "      <td>0.140546</td>\n",
       "      <td>0.035911</td>\n",
       "      <td>0.292695</td>\n",
       "    </tr>\n",
       "    <tr>\n",
       "      <th>DPF</th>\n",
       "      <td>-0.033927</td>\n",
       "      <td>0.136903</td>\n",
       "      <td>0.041180</td>\n",
       "      <td>0.183498</td>\n",
       "      <td>0.185579</td>\n",
       "      <td>0.140546</td>\n",
       "      <td>1.000000</td>\n",
       "      <td>0.032738</td>\n",
       "      <td>0.173245</td>\n",
       "    </tr>\n",
       "    <tr>\n",
       "      <th>Age</th>\n",
       "      <td>0.544018</td>\n",
       "      <td>0.262408</td>\n",
       "      <td>0.239571</td>\n",
       "      <td>-0.115873</td>\n",
       "      <td>-0.040942</td>\n",
       "      <td>0.035911</td>\n",
       "      <td>0.032738</td>\n",
       "      <td>1.000000</td>\n",
       "      <td>0.236417</td>\n",
       "    </tr>\n",
       "    <tr>\n",
       "      <th>Res</th>\n",
       "      <td>0.221087</td>\n",
       "      <td>0.465856</td>\n",
       "      <td>0.064882</td>\n",
       "      <td>0.073265</td>\n",
       "      <td>0.131984</td>\n",
       "      <td>0.292695</td>\n",
       "      <td>0.173245</td>\n",
       "      <td>0.236417</td>\n",
       "      <td>1.000000</td>\n",
       "    </tr>\n",
       "  </tbody>\n",
       "</table>\n",
       "</div>"
      ],
      "text/plain": [
       "                 No. Pregnancies   Glucose  BloodPressure  SkinThickness  \\\n",
       "No. Pregnancies         1.000000  0.128846       0.141197      -0.082495   \n",
       "Glucose                 0.128846  1.000000       0.152498       0.056381   \n",
       "BloodPressure           0.141197  0.152498       1.000000       0.207308   \n",
       "SkinThickness          -0.082495  0.056381       0.207308       1.000000   \n",
       "Insulin                -0.072999  0.332383       0.089098       0.437974   \n",
       "BMI                     0.017518  0.220955       0.281777       0.392553   \n",
       "DPF                    -0.033927  0.136903       0.041180       0.183498   \n",
       "Age                     0.544018  0.262408       0.239571      -0.115873   \n",
       "Res                     0.221087  0.465856       0.064882       0.073265   \n",
       "\n",
       "                  Insulin       BMI       DPF       Age       Res  \n",
       "No. Pregnancies -0.072999  0.017518 -0.033927  0.544018  0.221087  \n",
       "Glucose          0.332383  0.220955  0.136903  0.262408  0.465856  \n",
       "BloodPressure    0.089098  0.281777  0.041180  0.239571  0.064882  \n",
       "SkinThickness    0.437974  0.392553  0.183498 -0.115873  0.073265  \n",
       "Insulin          1.000000  0.198111  0.185579 -0.040942  0.131984  \n",
       "BMI              0.198111  1.000000  0.140546  0.035911  0.292695  \n",
       "DPF              0.185579  0.140546  1.000000  0.032738  0.173245  \n",
       "Age             -0.040942  0.035911  0.032738  1.000000  0.236417  \n",
       "Res              0.131984  0.292695  0.173245  0.236417  1.000000  "
      ]
     },
     "execution_count": 9,
     "metadata": {},
     "output_type": "execute_result"
    }
   ],
   "source": [
    "df.corr()"
   ]
  },
  {
   "cell_type": "code",
   "execution_count": 10,
   "id": "c7692a04",
   "metadata": {},
   "outputs": [],
   "source": [
    "cols = df.columns"
   ]
  },
  {
   "cell_type": "code",
   "execution_count": 11,
   "id": "62853f02",
   "metadata": {},
   "outputs": [
    {
     "data": {
      "text/plain": [
       "Index(['No. Pregnancies', 'Glucose', 'BloodPressure', 'SkinThickness',\n",
       "       'Insulin', 'BMI', 'DPF', 'Age', 'Res'],\n",
       "      dtype='object')"
      ]
     },
     "execution_count": 11,
     "metadata": {},
     "output_type": "execute_result"
    }
   ],
   "source": [
    "cols"
   ]
  },
  {
   "cell_type": "code",
   "execution_count": 20,
   "id": "eb12e0e2",
   "metadata": {},
   "outputs": [
    {
     "data": {
      "text/plain": [
       "No. Pregnancies    111\n",
       "Glucose              5\n",
       "BloodPressure       35\n",
       "SkinThickness      227\n",
       "Insulin            373\n",
       "BMI                 11\n",
       "DPF                  0\n",
       "Age                  0\n",
       "Res                500\n",
       "dtype: int64"
      ]
     },
     "execution_count": 20,
     "metadata": {},
     "output_type": "execute_result"
    }
   ],
   "source": [
    "(df==0).sum()"
   ]
  },
  {
   "cell_type": "code",
   "execution_count": 22,
   "id": "53c476e2",
   "metadata": {},
   "outputs": [
    {
     "data": {
      "text/plain": [
       "(767, 9)"
      ]
     },
     "execution_count": 22,
     "metadata": {},
     "output_type": "execute_result"
    }
   ],
   "source": [
    "df.shape"
   ]
  },
  {
   "cell_type": "code",
   "execution_count": null,
   "id": "eaa29a0a",
   "metadata": {},
   "outputs": [],
   "source": [
    "df[cols[:8]].replace()"
   ]
  },
  {
   "cell_type": "code",
   "execution_count": 13,
   "id": "76c284f9",
   "metadata": {},
   "outputs": [
    {
     "data": {
      "text/plain": [
       "9"
      ]
     },
     "execution_count": 13,
     "metadata": {},
     "output_type": "execute_result"
    }
   ],
   "source": [
    "len(cols)"
   ]
  },
  {
   "cell_type": "code",
   "execution_count": 14,
   "id": "c62a39a6",
   "metadata": {},
   "outputs": [],
   "source": [
    "X = df[cols[:8]]"
   ]
  },
  {
   "cell_type": "code",
   "execution_count": 15,
   "id": "d1b90d06",
   "metadata": {},
   "outputs": [],
   "source": [
    "y = df[cols[8]]"
   ]
  },
  {
   "cell_type": "code",
   "execution_count": 16,
   "id": "e40dc0a8",
   "metadata": {},
   "outputs": [],
   "source": [
    "X_train,X_test,y_train,y_test = train_test_split(X,y,test_size=0.2,random_state=42)"
   ]
  },
  {
   "cell_type": "code",
   "execution_count": 17,
   "id": "49b6edda",
   "metadata": {},
   "outputs": [],
   "source": [
    "model = DecisionTreeClassifier()"
   ]
  },
  {
   "cell_type": "code",
   "execution_count": 18,
   "id": "c3cf90a8",
   "metadata": {},
   "outputs": [
    {
     "data": {
      "text/html": [
       "<style>#sk-container-id-1 {color: black;background-color: white;}#sk-container-id-1 pre{padding: 0;}#sk-container-id-1 div.sk-toggleable {background-color: white;}#sk-container-id-1 label.sk-toggleable__label {cursor: pointer;display: block;width: 100%;margin-bottom: 0;padding: 0.3em;box-sizing: border-box;text-align: center;}#sk-container-id-1 label.sk-toggleable__label-arrow:before {content: \"▸\";float: left;margin-right: 0.25em;color: #696969;}#sk-container-id-1 label.sk-toggleable__label-arrow:hover:before {color: black;}#sk-container-id-1 div.sk-estimator:hover label.sk-toggleable__label-arrow:before {color: black;}#sk-container-id-1 div.sk-toggleable__content {max-height: 0;max-width: 0;overflow: hidden;text-align: left;background-color: #f0f8ff;}#sk-container-id-1 div.sk-toggleable__content pre {margin: 0.2em;color: black;border-radius: 0.25em;background-color: #f0f8ff;}#sk-container-id-1 input.sk-toggleable__control:checked~div.sk-toggleable__content {max-height: 200px;max-width: 100%;overflow: auto;}#sk-container-id-1 input.sk-toggleable__control:checked~label.sk-toggleable__label-arrow:before {content: \"▾\";}#sk-container-id-1 div.sk-estimator input.sk-toggleable__control:checked~label.sk-toggleable__label {background-color: #d4ebff;}#sk-container-id-1 div.sk-label input.sk-toggleable__control:checked~label.sk-toggleable__label {background-color: #d4ebff;}#sk-container-id-1 input.sk-hidden--visually {border: 0;clip: rect(1px 1px 1px 1px);clip: rect(1px, 1px, 1px, 1px);height: 1px;margin: -1px;overflow: hidden;padding: 0;position: absolute;width: 1px;}#sk-container-id-1 div.sk-estimator {font-family: monospace;background-color: #f0f8ff;border: 1px dotted black;border-radius: 0.25em;box-sizing: border-box;margin-bottom: 0.5em;}#sk-container-id-1 div.sk-estimator:hover {background-color: #d4ebff;}#sk-container-id-1 div.sk-parallel-item::after {content: \"\";width: 100%;border-bottom: 1px solid gray;flex-grow: 1;}#sk-container-id-1 div.sk-label:hover label.sk-toggleable__label {background-color: #d4ebff;}#sk-container-id-1 div.sk-serial::before {content: \"\";position: absolute;border-left: 1px solid gray;box-sizing: border-box;top: 0;bottom: 0;left: 50%;z-index: 0;}#sk-container-id-1 div.sk-serial {display: flex;flex-direction: column;align-items: center;background-color: white;padding-right: 0.2em;padding-left: 0.2em;position: relative;}#sk-container-id-1 div.sk-item {position: relative;z-index: 1;}#sk-container-id-1 div.sk-parallel {display: flex;align-items: stretch;justify-content: center;background-color: white;position: relative;}#sk-container-id-1 div.sk-item::before, #sk-container-id-1 div.sk-parallel-item::before {content: \"\";position: absolute;border-left: 1px solid gray;box-sizing: border-box;top: 0;bottom: 0;left: 50%;z-index: -1;}#sk-container-id-1 div.sk-parallel-item {display: flex;flex-direction: column;z-index: 1;position: relative;background-color: white;}#sk-container-id-1 div.sk-parallel-item:first-child::after {align-self: flex-end;width: 50%;}#sk-container-id-1 div.sk-parallel-item:last-child::after {align-self: flex-start;width: 50%;}#sk-container-id-1 div.sk-parallel-item:only-child::after {width: 0;}#sk-container-id-1 div.sk-dashed-wrapped {border: 1px dashed gray;margin: 0 0.4em 0.5em 0.4em;box-sizing: border-box;padding-bottom: 0.4em;background-color: white;}#sk-container-id-1 div.sk-label label {font-family: monospace;font-weight: bold;display: inline-block;line-height: 1.2em;}#sk-container-id-1 div.sk-label-container {text-align: center;}#sk-container-id-1 div.sk-container {/* jupyter's `normalize.less` sets `[hidden] { display: none; }` but bootstrap.min.css set `[hidden] { display: none !important; }` so we also need the `!important` here to be able to override the default hidden behavior on the sphinx rendered scikit-learn.org. See: https://github.com/scikit-learn/scikit-learn/issues/21755 */display: inline-block !important;position: relative;}#sk-container-id-1 div.sk-text-repr-fallback {display: none;}</style><div id=\"sk-container-id-1\" class=\"sk-top-container\"><div class=\"sk-text-repr-fallback\"><pre>DecisionTreeClassifier()</pre><b>In a Jupyter environment, please rerun this cell to show the HTML representation or trust the notebook. <br />On GitHub, the HTML representation is unable to render, please try loading this page with nbviewer.org.</b></div><div class=\"sk-container\" hidden><div class=\"sk-item\"><div class=\"sk-estimator sk-toggleable\"><input class=\"sk-toggleable__control sk-hidden--visually\" id=\"sk-estimator-id-1\" type=\"checkbox\" checked><label for=\"sk-estimator-id-1\" class=\"sk-toggleable__label sk-toggleable__label-arrow\">DecisionTreeClassifier</label><div class=\"sk-toggleable__content\"><pre>DecisionTreeClassifier()</pre></div></div></div></div></div>"
      ],
      "text/plain": [
       "DecisionTreeClassifier()"
      ]
     },
     "execution_count": 18,
     "metadata": {},
     "output_type": "execute_result"
    }
   ],
   "source": [
    "model.fit(X_train,y_train)"
   ]
  },
  {
   "cell_type": "code",
   "execution_count": 19,
   "id": "710c072d",
   "metadata": {},
   "outputs": [
    {
     "data": {
      "text/plain": [
       "0.6753246753246753"
      ]
     },
     "execution_count": 19,
     "metadata": {},
     "output_type": "execute_result"
    }
   ],
   "source": [
    "model.score(X_test,y_test)"
   ]
  },
  {
   "cell_type": "code",
   "execution_count": null,
   "id": "87bad6e6",
   "metadata": {},
   "outputs": [],
   "source": []
  }
 ],
 "metadata": {
  "kernelspec": {
   "display_name": "Python 3 (ipykernel)",
   "language": "python",
   "name": "python3"
  },
  "language_info": {
   "codemirror_mode": {
    "name": "ipython",
    "version": 3
   },
   "file_extension": ".py",
   "mimetype": "text/x-python",
   "name": "python",
   "nbconvert_exporter": "python",
   "pygments_lexer": "ipython3",
   "version": "3.10.6"
  }
 },
 "nbformat": 4,
 "nbformat_minor": 5
}
