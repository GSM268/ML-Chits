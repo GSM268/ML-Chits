{
 "cells": [
  {
   "cell_type": "code",
   "execution_count": 255,
   "id": "e6b99b30",
   "metadata": {},
   "outputs": [],
   "source": [
    "import pandas as pd\n",
    "import matplotlib.pyplot as plt\n",
    "import numpy as np"
   ]
  },
  {
   "cell_type": "code",
   "execution_count": 256,
   "id": "b5290597",
   "metadata": {},
   "outputs": [],
   "source": [
    "from sklearn import metrics\n",
    "from sklearn.tree import DecisionTreeClassifier\n",
    "from sklearn.preprocessing import LabelEncoder\n",
    "from sklearn.model_selection import train_test_split"
   ]
  },
  {
   "cell_type": "code",
   "execution_count": 257,
   "id": "c2f67b76",
   "metadata": {},
   "outputs": [],
   "source": [
    "headerList = ['No. Pregnancies', 'Glucose', 'BloodPressure', 'SkinThickness', 'Insulin', 'BMI', 'DPF' ,'Age', 'Res']"
   ]
  },
  {
   "cell_type": "code",
   "execution_count": 258,
   "id": "368b7057",
   "metadata": {},
   "outputs": [],
   "source": [
    "df = pd.read_csv(\"pima-indians-diabetes.csv\",skiprows=9)\n"
   ]
  },
  {
   "cell_type": "code",
   "execution_count": 259,
   "id": "869ce1ef",
   "metadata": {},
   "outputs": [],
   "source": [
    "df.to_csv(\"new.csv\",header=headerList,index=False)"
   ]
  },
  {
   "cell_type": "code",
   "execution_count": 260,
   "id": "52876a7a",
   "metadata": {},
   "outputs": [],
   "source": [
    "df = pd.read_csv(\"new.csv\")"
   ]
  },
  {
   "cell_type": "code",
   "execution_count": 261,
   "id": "829264d2",
   "metadata": {},
   "outputs": [
    {
     "data": {
      "text/html": [
       "<div>\n",
       "<style scoped>\n",
       "    .dataframe tbody tr th:only-of-type {\n",
       "        vertical-align: middle;\n",
       "    }\n",
       "\n",
       "    .dataframe tbody tr th {\n",
       "        vertical-align: top;\n",
       "    }\n",
       "\n",
       "    .dataframe thead th {\n",
       "        text-align: right;\n",
       "    }\n",
       "</style>\n",
       "<table border=\"1\" class=\"dataframe\">\n",
       "  <thead>\n",
       "    <tr style=\"text-align: right;\">\n",
       "      <th></th>\n",
       "      <th>No. Pregnancies</th>\n",
       "      <th>Glucose</th>\n",
       "      <th>BloodPressure</th>\n",
       "      <th>SkinThickness</th>\n",
       "      <th>Insulin</th>\n",
       "      <th>BMI</th>\n",
       "      <th>DPF</th>\n",
       "      <th>Age</th>\n",
       "      <th>Res</th>\n",
       "    </tr>\n",
       "  </thead>\n",
       "  <tbody>\n",
       "    <tr>\n",
       "      <th>0</th>\n",
       "      <td>1</td>\n",
       "      <td>85</td>\n",
       "      <td>66</td>\n",
       "      <td>29</td>\n",
       "      <td>0</td>\n",
       "      <td>26.6</td>\n",
       "      <td>0.351</td>\n",
       "      <td>31</td>\n",
       "      <td>0</td>\n",
       "    </tr>\n",
       "    <tr>\n",
       "      <th>1</th>\n",
       "      <td>8</td>\n",
       "      <td>183</td>\n",
       "      <td>64</td>\n",
       "      <td>0</td>\n",
       "      <td>0</td>\n",
       "      <td>23.3</td>\n",
       "      <td>0.672</td>\n",
       "      <td>32</td>\n",
       "      <td>1</td>\n",
       "    </tr>\n",
       "    <tr>\n",
       "      <th>2</th>\n",
       "      <td>1</td>\n",
       "      <td>89</td>\n",
       "      <td>66</td>\n",
       "      <td>23</td>\n",
       "      <td>94</td>\n",
       "      <td>28.1</td>\n",
       "      <td>0.167</td>\n",
       "      <td>21</td>\n",
       "      <td>0</td>\n",
       "    </tr>\n",
       "    <tr>\n",
       "      <th>3</th>\n",
       "      <td>0</td>\n",
       "      <td>137</td>\n",
       "      <td>40</td>\n",
       "      <td>35</td>\n",
       "      <td>168</td>\n",
       "      <td>43.1</td>\n",
       "      <td>2.288</td>\n",
       "      <td>33</td>\n",
       "      <td>1</td>\n",
       "    </tr>\n",
       "    <tr>\n",
       "      <th>4</th>\n",
       "      <td>5</td>\n",
       "      <td>116</td>\n",
       "      <td>74</td>\n",
       "      <td>0</td>\n",
       "      <td>0</td>\n",
       "      <td>25.6</td>\n",
       "      <td>0.201</td>\n",
       "      <td>30</td>\n",
       "      <td>0</td>\n",
       "    </tr>\n",
       "  </tbody>\n",
       "</table>\n",
       "</div>"
      ],
      "text/plain": [
       "   No. Pregnancies  Glucose  BloodPressure  SkinThickness  Insulin   BMI  \\\n",
       "0                1       85             66             29        0  26.6   \n",
       "1                8      183             64              0        0  23.3   \n",
       "2                1       89             66             23       94  28.1   \n",
       "3                0      137             40             35      168  43.1   \n",
       "4                5      116             74              0        0  25.6   \n",
       "\n",
       "     DPF  Age  Res  \n",
       "0  0.351   31    0  \n",
       "1  0.672   32    1  \n",
       "2  0.167   21    0  \n",
       "3  2.288   33    1  \n",
       "4  0.201   30    0  "
      ]
     },
     "execution_count": 261,
     "metadata": {},
     "output_type": "execute_result"
    }
   ],
   "source": [
    "df.head()"
   ]
  },
  {
   "cell_type": "code",
   "execution_count": 262,
   "id": "9a90f85f",
   "metadata": {},
   "outputs": [
    {
     "data": {
      "text/plain": [
       "No. Pregnancies    0\n",
       "Glucose            0\n",
       "BloodPressure      0\n",
       "SkinThickness      0\n",
       "Insulin            0\n",
       "BMI                0\n",
       "DPF                0\n",
       "Age                0\n",
       "Res                0\n",
       "dtype: int64"
      ]
     },
     "execution_count": 262,
     "metadata": {},
     "output_type": "execute_result"
    }
   ],
   "source": [
    "df.isnull().sum()"
   ]
  },
  {
   "cell_type": "code",
   "execution_count": 263,
   "id": "5477c900",
   "metadata": {},
   "outputs": [
    {
     "data": {
      "text/plain": [
       "No. Pregnancies    0\n",
       "Glucose            0\n",
       "BloodPressure      0\n",
       "SkinThickness      0\n",
       "Insulin            0\n",
       "BMI                0\n",
       "DPF                0\n",
       "Age                0\n",
       "Res                0\n",
       "dtype: int64"
      ]
     },
     "execution_count": 263,
     "metadata": {},
     "output_type": "execute_result"
    }
   ],
   "source": [
    "df.isnull().sum()"
   ]
  },
  {
   "cell_type": "code",
   "execution_count": 264,
   "id": "9207fa68",
   "metadata": {},
   "outputs": [],
   "source": [
    "df['BMI'] = df['BMI'].replace(0,np.NaN)"
   ]
  },
  {
   "cell_type": "code",
   "execution_count": 265,
   "id": "093b8f85",
   "metadata": {},
   "outputs": [
    {
     "data": {
      "text/plain": [
       "No. Pregnancies     0\n",
       "Glucose             0\n",
       "BloodPressure       0\n",
       "SkinThickness       0\n",
       "Insulin             0\n",
       "BMI                11\n",
       "DPF                 0\n",
       "Age                 0\n",
       "Res                 0\n",
       "dtype: int64"
      ]
     },
     "execution_count": 265,
     "metadata": {},
     "output_type": "execute_result"
    }
   ],
   "source": [
    "df.isnull().sum()"
   ]
  },
  {
   "cell_type": "code",
   "execution_count": 266,
   "id": "411a4efe",
   "metadata": {},
   "outputs": [],
   "source": [
    "df.dropna(inplace=True)"
   ]
  },
  {
   "cell_type": "code",
   "execution_count": 280,
   "id": "e818243d",
   "metadata": {},
   "outputs": [
    {
     "data": {
      "text/plain": [
       "array([  0,  94, 168,  88, 543, 846, 175, 230,  83,  96, 235, 146, 115,\n",
       "       140, 110, 245,  54, 192, 207,  70, 240,  82,  36,  23, 300, 342,\n",
       "       304, 142, 128,  38, 100,  90, 270,  71, 125, 176,  48,  64, 228,\n",
       "        76, 220,  40, 152,  18, 135, 495,  37,  51,  99, 145, 225,  49,\n",
       "        50,  92, 325,  63, 284, 119, 204, 155, 485,  53, 114, 105, 285,\n",
       "       156,  78, 130,  55,  58, 160, 210, 318,  44, 190, 280,  87, 271,\n",
       "       129, 120, 478,  56,  32, 744, 370,  45, 194, 680, 402, 258, 375,\n",
       "       150,  67,  57, 116, 278, 122, 545,  75,  74, 182, 360, 215, 184,\n",
       "        42, 132, 148, 180, 205,  85, 231,  29,  68,  52, 255, 171,  73,\n",
       "       108,  43, 167, 249, 293,  66, 465, 158,  84,  72,  59,  81, 196,\n",
       "       415, 275, 165, 579, 310,  61, 474, 170, 277,  60,  14,  95, 237,\n",
       "       191, 328, 250, 480, 265, 193,  79,  86, 326, 188, 106,  65, 166,\n",
       "       274,  77, 126, 330, 600, 185,  25,  41, 272, 321, 144,  15, 183,\n",
       "        91,  46, 440, 159, 540, 200, 335, 387,  22, 291, 392, 178, 127,\n",
       "       510,  16, 112])"
      ]
     },
     "execution_count": 280,
     "metadata": {},
     "output_type": "execute_result"
    }
   ],
   "source": [
    "df['Insulin'] = df['BMI'].replace(0,np.NaN)"
   ]
  },
  {
   "cell_type": "code",
   "execution_count": 267,
   "id": "09fcc048",
   "metadata": {},
   "outputs": [
    {
     "data": {
      "text/html": [
       "<div>\n",
       "<style scoped>\n",
       "    .dataframe tbody tr th:only-of-type {\n",
       "        vertical-align: middle;\n",
       "    }\n",
       "\n",
       "    .dataframe tbody tr th {\n",
       "        vertical-align: top;\n",
       "    }\n",
       "\n",
       "    .dataframe thead th {\n",
       "        text-align: right;\n",
       "    }\n",
       "</style>\n",
       "<table border=\"1\" class=\"dataframe\">\n",
       "  <thead>\n",
       "    <tr style=\"text-align: right;\">\n",
       "      <th></th>\n",
       "      <th>No. Pregnancies</th>\n",
       "      <th>Glucose</th>\n",
       "      <th>BloodPressure</th>\n",
       "      <th>SkinThickness</th>\n",
       "      <th>Insulin</th>\n",
       "      <th>BMI</th>\n",
       "      <th>DPF</th>\n",
       "      <th>Age</th>\n",
       "      <th>Res</th>\n",
       "    </tr>\n",
       "  </thead>\n",
       "  <tbody>\n",
       "    <tr>\n",
       "      <th>No. Pregnancies</th>\n",
       "      <td>1.000000</td>\n",
       "      <td>0.126559</td>\n",
       "      <td>0.153596</td>\n",
       "      <td>-0.079174</td>\n",
       "      <td>-0.072392</td>\n",
       "      <td>0.021585</td>\n",
       "      <td>-0.026995</td>\n",
       "      <td>0.546723</td>\n",
       "      <td>0.215643</td>\n",
       "    </tr>\n",
       "    <tr>\n",
       "      <th>Glucose</th>\n",
       "      <td>0.126559</td>\n",
       "      <td>1.000000</td>\n",
       "      <td>0.134539</td>\n",
       "      <td>0.048665</td>\n",
       "      <td>0.329752</td>\n",
       "      <td>0.219213</td>\n",
       "      <td>0.133847</td>\n",
       "      <td>0.257124</td>\n",
       "      <td>0.465184</td>\n",
       "    </tr>\n",
       "    <tr>\n",
       "      <th>BloodPressure</th>\n",
       "      <td>0.153596</td>\n",
       "      <td>0.134539</td>\n",
       "      <td>1.000000</td>\n",
       "      <td>0.181339</td>\n",
       "      <td>0.073160</td>\n",
       "      <td>0.194305</td>\n",
       "      <td>0.020683</td>\n",
       "      <td>0.225563</td>\n",
       "      <td>0.052422</td>\n",
       "    </tr>\n",
       "    <tr>\n",
       "      <th>SkinThickness</th>\n",
       "      <td>-0.079174</td>\n",
       "      <td>0.048665</td>\n",
       "      <td>0.181339</td>\n",
       "      <td>1.000000</td>\n",
       "      <td>0.433150</td>\n",
       "      <td>0.384601</td>\n",
       "      <td>0.177618</td>\n",
       "      <td>-0.119005</td>\n",
       "      <td>0.070587</td>\n",
       "    </tr>\n",
       "    <tr>\n",
       "      <th>Insulin</th>\n",
       "      <td>-0.072392</td>\n",
       "      <td>0.329752</td>\n",
       "      <td>0.073160</td>\n",
       "      <td>0.433150</td>\n",
       "      <td>1.000000</td>\n",
       "      <td>0.185573</td>\n",
       "      <td>0.183500</td>\n",
       "      <td>-0.042938</td>\n",
       "      <td>0.130345</td>\n",
       "    </tr>\n",
       "    <tr>\n",
       "      <th>BMI</th>\n",
       "      <td>0.021585</td>\n",
       "      <td>0.219213</td>\n",
       "      <td>0.194305</td>\n",
       "      <td>0.384601</td>\n",
       "      <td>0.185573</td>\n",
       "      <td>1.000000</td>\n",
       "      <td>0.155305</td>\n",
       "      <td>0.025564</td>\n",
       "      <td>0.313773</td>\n",
       "    </tr>\n",
       "    <tr>\n",
       "      <th>DPF</th>\n",
       "      <td>-0.026995</td>\n",
       "      <td>0.133847</td>\n",
       "      <td>0.020683</td>\n",
       "      <td>0.177618</td>\n",
       "      <td>0.183500</td>\n",
       "      <td>0.155305</td>\n",
       "      <td>1.000000</td>\n",
       "      <td>0.033578</td>\n",
       "      <td>0.179017</td>\n",
       "    </tr>\n",
       "    <tr>\n",
       "      <th>Age</th>\n",
       "      <td>0.546723</td>\n",
       "      <td>0.257124</td>\n",
       "      <td>0.225563</td>\n",
       "      <td>-0.119005</td>\n",
       "      <td>-0.042938</td>\n",
       "      <td>0.025564</td>\n",
       "      <td>0.033578</td>\n",
       "      <td>1.000000</td>\n",
       "      <td>0.234061</td>\n",
       "    </tr>\n",
       "    <tr>\n",
       "      <th>Res</th>\n",
       "      <td>0.215643</td>\n",
       "      <td>0.465184</td>\n",
       "      <td>0.052422</td>\n",
       "      <td>0.070587</td>\n",
       "      <td>0.130345</td>\n",
       "      <td>0.313773</td>\n",
       "      <td>0.179017</td>\n",
       "      <td>0.234061</td>\n",
       "      <td>1.000000</td>\n",
       "    </tr>\n",
       "  </tbody>\n",
       "</table>\n",
       "</div>"
      ],
      "text/plain": [
       "                 No. Pregnancies   Glucose  BloodPressure  SkinThickness  \\\n",
       "No. Pregnancies         1.000000  0.126559       0.153596      -0.079174   \n",
       "Glucose                 0.126559  1.000000       0.134539       0.048665   \n",
       "BloodPressure           0.153596  0.134539       1.000000       0.181339   \n",
       "SkinThickness          -0.079174  0.048665       0.181339       1.000000   \n",
       "Insulin                -0.072392  0.329752       0.073160       0.433150   \n",
       "BMI                     0.021585  0.219213       0.194305       0.384601   \n",
       "DPF                    -0.026995  0.133847       0.020683       0.177618   \n",
       "Age                     0.546723  0.257124       0.225563      -0.119005   \n",
       "Res                     0.215643  0.465184       0.052422       0.070587   \n",
       "\n",
       "                  Insulin       BMI       DPF       Age       Res  \n",
       "No. Pregnancies -0.072392  0.021585 -0.026995  0.546723  0.215643  \n",
       "Glucose          0.329752  0.219213  0.133847  0.257124  0.465184  \n",
       "BloodPressure    0.073160  0.194305  0.020683  0.225563  0.052422  \n",
       "SkinThickness    0.433150  0.384601  0.177618 -0.119005  0.070587  \n",
       "Insulin          1.000000  0.185573  0.183500 -0.042938  0.130345  \n",
       "BMI              0.185573  1.000000  0.155305  0.025564  0.313773  \n",
       "DPF              0.183500  0.155305  1.000000  0.033578  0.179017  \n",
       "Age             -0.042938  0.025564  0.033578  1.000000  0.234061  \n",
       "Res              0.130345  0.313773  0.179017  0.234061  1.000000  "
      ]
     },
     "execution_count": 267,
     "metadata": {},
     "output_type": "execute_result"
    }
   ],
   "source": [
    "df.corr()"
   ]
  },
  {
   "cell_type": "code",
   "execution_count": 268,
   "id": "c7692a04",
   "metadata": {},
   "outputs": [],
   "source": [
    "cols = df.columns"
   ]
  },
  {
   "cell_type": "code",
   "execution_count": 269,
   "id": "62853f02",
   "metadata": {},
   "outputs": [
    {
     "data": {
      "text/plain": [
       "Index(['No. Pregnancies', 'Glucose', 'BloodPressure', 'SkinThickness',\n",
       "       'Insulin', 'BMI', 'DPF', 'Age', 'Res'],\n",
       "      dtype='object')"
      ]
     },
     "execution_count": 269,
     "metadata": {},
     "output_type": "execute_result"
    }
   ],
   "source": [
    "cols"
   ]
  },
  {
   "cell_type": "code",
   "execution_count": 270,
   "id": "5b143c56",
   "metadata": {},
   "outputs": [
    {
     "data": {
      "text/plain": [
       "(756, 9)"
      ]
     },
     "execution_count": 270,
     "metadata": {},
     "output_type": "execute_result"
    }
   ],
   "source": [
    "df.shape"
   ]
  },
  {
   "cell_type": "code",
   "execution_count": 271,
   "id": "76c284f9",
   "metadata": {},
   "outputs": [
    {
     "data": {
      "text/plain": [
       "9"
      ]
     },
     "execution_count": 271,
     "metadata": {},
     "output_type": "execute_result"
    }
   ],
   "source": [
    "len(cols)"
   ]
  },
  {
   "cell_type": "code",
   "execution_count": 272,
   "id": "c62a39a6",
   "metadata": {},
   "outputs": [],
   "source": [
    "X = df[cols[:8]]"
   ]
  },
  {
   "cell_type": "code",
   "execution_count": 273,
   "id": "d1b90d06",
   "metadata": {},
   "outputs": [],
   "source": [
    "y = df[cols[8]]"
   ]
  },
  {
   "cell_type": "code",
   "execution_count": 274,
   "id": "e40dc0a8",
   "metadata": {},
   "outputs": [],
   "source": [
    "X_train,X_test,y_train,y_test = train_test_split(X,y,test_size=0.2,random_state=42)"
   ]
  },
  {
   "cell_type": "code",
   "execution_count": 275,
   "id": "49b6edda",
   "metadata": {},
   "outputs": [],
   "source": [
    "model = DecisionTreeClassifier()"
   ]
  },
  {
   "cell_type": "code",
   "execution_count": 276,
   "id": "c3cf90a8",
   "metadata": {},
   "outputs": [
    {
     "data": {
      "text/html": [
       "<style>#sk-container-id-11 {color: black;background-color: white;}#sk-container-id-11 pre{padding: 0;}#sk-container-id-11 div.sk-toggleable {background-color: white;}#sk-container-id-11 label.sk-toggleable__label {cursor: pointer;display: block;width: 100%;margin-bottom: 0;padding: 0.3em;box-sizing: border-box;text-align: center;}#sk-container-id-11 label.sk-toggleable__label-arrow:before {content: \"▸\";float: left;margin-right: 0.25em;color: #696969;}#sk-container-id-11 label.sk-toggleable__label-arrow:hover:before {color: black;}#sk-container-id-11 div.sk-estimator:hover label.sk-toggleable__label-arrow:before {color: black;}#sk-container-id-11 div.sk-toggleable__content {max-height: 0;max-width: 0;overflow: hidden;text-align: left;background-color: #f0f8ff;}#sk-container-id-11 div.sk-toggleable__content pre {margin: 0.2em;color: black;border-radius: 0.25em;background-color: #f0f8ff;}#sk-container-id-11 input.sk-toggleable__control:checked~div.sk-toggleable__content {max-height: 200px;max-width: 100%;overflow: auto;}#sk-container-id-11 input.sk-toggleable__control:checked~label.sk-toggleable__label-arrow:before {content: \"▾\";}#sk-container-id-11 div.sk-estimator input.sk-toggleable__control:checked~label.sk-toggleable__label {background-color: #d4ebff;}#sk-container-id-11 div.sk-label input.sk-toggleable__control:checked~label.sk-toggleable__label {background-color: #d4ebff;}#sk-container-id-11 input.sk-hidden--visually {border: 0;clip: rect(1px 1px 1px 1px);clip: rect(1px, 1px, 1px, 1px);height: 1px;margin: -1px;overflow: hidden;padding: 0;position: absolute;width: 1px;}#sk-container-id-11 div.sk-estimator {font-family: monospace;background-color: #f0f8ff;border: 1px dotted black;border-radius: 0.25em;box-sizing: border-box;margin-bottom: 0.5em;}#sk-container-id-11 div.sk-estimator:hover {background-color: #d4ebff;}#sk-container-id-11 div.sk-parallel-item::after {content: \"\";width: 100%;border-bottom: 1px solid gray;flex-grow: 1;}#sk-container-id-11 div.sk-label:hover label.sk-toggleable__label {background-color: #d4ebff;}#sk-container-id-11 div.sk-serial::before {content: \"\";position: absolute;border-left: 1px solid gray;box-sizing: border-box;top: 0;bottom: 0;left: 50%;z-index: 0;}#sk-container-id-11 div.sk-serial {display: flex;flex-direction: column;align-items: center;background-color: white;padding-right: 0.2em;padding-left: 0.2em;position: relative;}#sk-container-id-11 div.sk-item {position: relative;z-index: 1;}#sk-container-id-11 div.sk-parallel {display: flex;align-items: stretch;justify-content: center;background-color: white;position: relative;}#sk-container-id-11 div.sk-item::before, #sk-container-id-11 div.sk-parallel-item::before {content: \"\";position: absolute;border-left: 1px solid gray;box-sizing: border-box;top: 0;bottom: 0;left: 50%;z-index: -1;}#sk-container-id-11 div.sk-parallel-item {display: flex;flex-direction: column;z-index: 1;position: relative;background-color: white;}#sk-container-id-11 div.sk-parallel-item:first-child::after {align-self: flex-end;width: 50%;}#sk-container-id-11 div.sk-parallel-item:last-child::after {align-self: flex-start;width: 50%;}#sk-container-id-11 div.sk-parallel-item:only-child::after {width: 0;}#sk-container-id-11 div.sk-dashed-wrapped {border: 1px dashed gray;margin: 0 0.4em 0.5em 0.4em;box-sizing: border-box;padding-bottom: 0.4em;background-color: white;}#sk-container-id-11 div.sk-label label {font-family: monospace;font-weight: bold;display: inline-block;line-height: 1.2em;}#sk-container-id-11 div.sk-label-container {text-align: center;}#sk-container-id-11 div.sk-container {/* jupyter's `normalize.less` sets `[hidden] { display: none; }` but bootstrap.min.css set `[hidden] { display: none !important; }` so we also need the `!important` here to be able to override the default hidden behavior on the sphinx rendered scikit-learn.org. See: https://github.com/scikit-learn/scikit-learn/issues/21755 */display: inline-block !important;position: relative;}#sk-container-id-11 div.sk-text-repr-fallback {display: none;}</style><div id=\"sk-container-id-11\" class=\"sk-top-container\"><div class=\"sk-text-repr-fallback\"><pre>DecisionTreeClassifier()</pre><b>In a Jupyter environment, please rerun this cell to show the HTML representation or trust the notebook. <br />On GitHub, the HTML representation is unable to render, please try loading this page with nbviewer.org.</b></div><div class=\"sk-container\" hidden><div class=\"sk-item\"><div class=\"sk-estimator sk-toggleable\"><input class=\"sk-toggleable__control sk-hidden--visually\" id=\"sk-estimator-id-11\" type=\"checkbox\" checked><label for=\"sk-estimator-id-11\" class=\"sk-toggleable__label sk-toggleable__label-arrow\">DecisionTreeClassifier</label><div class=\"sk-toggleable__content\"><pre>DecisionTreeClassifier()</pre></div></div></div></div></div>"
      ],
      "text/plain": [
       "DecisionTreeClassifier()"
      ]
     },
     "execution_count": 276,
     "metadata": {},
     "output_type": "execute_result"
    }
   ],
   "source": [
    "model.fit(X_train,y_train)"
   ]
  },
  {
   "cell_type": "code",
   "execution_count": 277,
   "id": "710c072d",
   "metadata": {},
   "outputs": [
    {
     "data": {
      "text/plain": [
       "0.6907894736842105"
      ]
     },
     "execution_count": 277,
     "metadata": {},
     "output_type": "execute_result"
    }
   ],
   "source": [
    "model.score(X_test,y_test)"
   ]
  },
  {
   "cell_type": "code",
   "execution_count": null,
   "id": "87bad6e6",
   "metadata": {},
   "outputs": [],
   "source": []
  }
 ],
 "metadata": {
  "kernelspec": {
   "display_name": "Python 3 (ipykernel)",
   "language": "python",
   "name": "python3"
  },
  "language_info": {
   "codemirror_mode": {
    "name": "ipython",
    "version": 3
   },
   "file_extension": ".py",
   "mimetype": "text/x-python",
   "name": "python",
   "nbconvert_exporter": "python",
   "pygments_lexer": "ipython3",
   "version": "3.10.6"
  }
 },
 "nbformat": 4,
 "nbformat_minor": 5
}
